{
  "cells": [
    {
      "cell_type": "code",
      "execution_count": 85,
      "metadata": {
        "id": "QnPN6y4QdrvK"
      },
      "outputs": [],
      "source": [
        "import pandas as pd"
      ]
    },
    {
      "cell_type": "code",
      "execution_count": 86,
      "metadata": {
        "id": "zfy5x7F6nSr3"
      },
      "outputs": [],
      "source": [
        "story_titles = pd.read_csv(\"data.csv\")['title'].tolist()"
      ]
    },
    {
      "cell_type": "markdown",
      "metadata": {
        "id": "4Ng1nSzRn4J6"
      },
      "source": [
        "Aqui é extraída a trama básica da história da api em [stories.rafaelaraujo.tech](https://stories.rafaelaraujo.tech)"
      ]
    },
    {
      "cell_type": "code",
      "execution_count": 87,
      "metadata": {
        "id": "XCQFjDKonrDN"
      },
      "outputs": [],
      "source": [
        "import requests\n",
        "def get_info(title):\n",
        "    response = requests.get(f'https://stories.rafaelaraujo.tech/story/{title}')\n",
        "\n",
        "    if response.status_code == 200:\n",
        "      response_json = response.json()\n",
        "      story = {\n",
        "        'id': response_json['id'],\n",
        "        'description': response_json['description'],\n",
        "        'title': response_json['title']\n",
        "        }\n",
        "      return story\n",
        "    else:\n",
        "      return None"
      ]
    },
    {
      "cell_type": "code",
      "execution_count": 88,
      "metadata": {
        "id": "0E2mbxkgoCnw"
      },
      "outputs": [],
      "source": [
        "stories = []\n",
        "for title in story_titles:\n",
        "  s = get_info(title)\n",
        "  if s:\n",
        "    stories.append(s)"
      ]
    },
    {
      "cell_type": "code",
      "execution_count": 89,
      "metadata": {
        "id": "4d3T_1F1vKpW"
      },
      "outputs": [],
      "source": [
        "openai_api_key = # your-api-key"
      ]
    },
    {
      "cell_type": "code",
      "execution_count": null,
      "metadata": {
        "colab": {
          "base_uri": "https://localhost:8080/"
        },
        "id": "k6je7PVDvbD_",
        "outputId": "5824353a-7465-44b2-dec8-d73d1e5c55cc"
      },
      "outputs": [],
      "source": [
        "!pip install openai"
      ]
    },
    {
      "cell_type": "code",
      "execution_count": 91,
      "metadata": {
        "id": "havULvXDtcXd"
      },
      "outputs": [],
      "source": [
        "import openai\n",
        "\n",
        "openai.api_key = openai_api_key\n",
        "\n",
        "def generate_story(description):\n",
        "  completion = openai.ChatCompletion.create(\n",
        "      model=\"gpt-3.5-turbo\",\n",
        "      messages=[\n",
        "          {\n",
        "              \"role\": \"system\",\n",
        "              \"content\": \"Act as a creative writer\"\n",
        "          },\n",
        "          {\n",
        "              \"role\": \"user\",\n",
        "              \"content\": f'Create a short story based on the following description: \"{description}\". It should have an introduction, development and ending. It should have less than 100 words.'\n",
        "          }\n",
        "      ]\n",
        "  )\n",
        "\n",
        "  return completion.choices[0].message.content.strip('\\*').replace(\"'\", \"\").replace(\"\\n\", \"\")"
      ]
    },
    {
      "cell_type": "code",
      "execution_count": null,
      "metadata": {
        "id": "aMSsc5Aj1S7T"
      },
      "outputs": [],
      "source": [
        "for story in stories:\n",
        "  text = generate_story(story['description'])\n",
        "  while len(text) >= 1000:\n",
        "    # ChatGPT can't count words properly, this part keeps trying until it gets an appropriate-sized story\n",
        "    text = generate_story(story['description'])\n",
        "\n",
        "  story['full_story'] = text\n",
        "  print(\"Generated full story for \" + story['title'])"
      ]
    },
    {
      "cell_type": "markdown",
      "metadata": {
        "id": "KoNgo3rS9fUQ"
      },
      "source": [
        "Aqui, a história final gerada é salva com uma requisição POST para o endpoint [stories.rafaelaraujo.tech/story](https://stories.rafaelaraujo.tech/story)"
      ]
    },
    {
      "cell_type": "code",
      "execution_count": 93,
      "metadata": {
        "id": "fUPUpXR0wIB-"
      },
      "outputs": [],
      "source": [
        "headers = {'Content-Type': \"application/json\", 'Accept': \"*/*\", \"Connection\": \"keep-alive\"}\n",
        "def save_story(id, full_story):\n",
        "  response = requests.post(f'https://stories.rafaelaraujo.tech/story', headers=headers, json={\n",
        "        \"fullStory\": full_story,\n",
        "        \"parentStoryId\": id\n",
        "  })\n",
        "\n",
        "  return 1 if response.status_code == 200 else 0"
      ]
    },
    {
      "cell_type": "code",
      "execution_count": null,
      "metadata": {
        "id": "QJbAeRiO2OZ4"
      },
      "outputs": [],
      "source": [
        "for story in stories:\n",
        "  response = save_story(story['id'], story['full_story'])\n",
        "  if response == 1:\n",
        "    print('Succesfully saved story ' + story['title'])\n",
        "  else:\n",
        "    print('Failed to save story ' + story['title'])"
      ]
    }
  ],
  "metadata": {
    "colab": {
      "provenance": []
    },
    "kernelspec": {
      "display_name": "Python 3",
      "name": "python3"
    },
    "language_info": {
      "name": "python"
    }
  },
  "nbformat": 4,
  "nbformat_minor": 0
}
